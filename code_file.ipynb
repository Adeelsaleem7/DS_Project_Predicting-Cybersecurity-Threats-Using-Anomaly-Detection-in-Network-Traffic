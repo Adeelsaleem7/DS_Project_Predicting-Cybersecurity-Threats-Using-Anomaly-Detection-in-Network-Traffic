{
  "cells": [
    {
      "cell_type": "code",
      "execution_count": 1,
      "id": "4cff2e22",
      "metadata": {
        "id": "4cff2e22"
      },
      "outputs": [],
      "source": [
        "import pandas as pd\n",
        "import numpy as np\n",
        "import os\n",
        "import glob\n",
        "import seaborn as sns\n",
        "import matplotlib.pyplot as plt\n",
        "from sklearn.model_selection import train_test_split\n",
        "from sklearn.preprocessing import StandardScaler, LabelEncoder\n",
        "from sklearn.ensemble import RandomForestClassifier, IsolationForest\n",
        "from sklearn.metrics import classification_report, confusion_matrix, roc_auc_score\n",
        "from tensorflow.keras.models import Sequential\n",
        "from tensorflow.keras.layers import Dense, Dropout\n",
        "from tensorflow.keras.optimizers import Adam\n",
        "import tensorflow as tf"
      ]
    },
    {
      "cell_type": "code",
      "source": [
        "import zipfile\n",
        "import os\n",
        "\n",
        "# Define the path to the zip file and the destination folder\n",
        "zip_path = \"/content/MachineLearningCSV.zip\"\n",
        "extract_folder = \"./content/MachineLearningCSV/\"\n",
        "\n",
        "# Unzip the file\n",
        "with zipfile.ZipFile(zip_path, 'r') as zip_ref:\n",
        "    zip_ref.extractall(extract_folder)\n",
        "\n",
        "print(\"Files extracted to:\", extract_folder)\n"
      ],
      "metadata": {
        "id": "vxALL0Rrf2bV",
        "outputId": "8c802351-b37e-43ed-bbe8-791076de539b",
        "colab": {
          "base_uri": "https://localhost:8080/"
        }
      },
      "id": "vxALL0Rrf2bV",
      "execution_count": 19,
      "outputs": [
        {
          "output_type": "stream",
          "name": "stdout",
          "text": [
            "Files extracted to: ./content/MachineLearningCSV/\n"
          ]
        }
      ]
    },
    {
      "cell_type": "code",
      "execution_count": 13,
      "id": "f5eb6e82",
      "metadata": {
        "id": "f5eb6e82"
      },
      "outputs": [],
      "source": [
        "# Set display options for pandas\n",
        "pd.set_option('display.max_columns', None)\n",
        "pd.set_option('display.float_format', lambda x: '%.3f' % x)\n",
        "\n",
        "# Define the folder containing all CSV files\n",
        "data_folder = \"./data/\"  # Change this to your actual path"
      ]
    },
    {
      "cell_type": "code",
      "source": [],
      "metadata": {
        "id": "AzixClZ7f1SU"
      },
      "id": "AzixClZ7f1SU",
      "execution_count": null,
      "outputs": []
    },
    {
      "cell_type": "code",
      "execution_count": 21,
      "id": "0c3ab864",
      "metadata": {
        "id": "0c3ab864",
        "outputId": "03ab6979-3575-4e32-a7c2-e7d00844daaf",
        "colab": {
          "base_uri": "https://localhost:8080/"
        }
      },
      "outputs": [
        {
          "output_type": "stream",
          "name": "stdout",
          "text": [
            "Loaded: /content/content/MachineLearningCSV/MachineLearningCVE/Monday-WorkingHours.pcap_ISCX.csv (529918 rows)\n",
            "Loaded: /content/content/MachineLearningCSV/MachineLearningCVE/Thursday-WorkingHours-Afternoon-Infilteration.pcap_ISCX.csv (288602 rows)\n",
            "Loaded: /content/content/MachineLearningCSV/MachineLearningCVE/Friday-WorkingHours-Morning.pcap_ISCX.csv (191033 rows)\n",
            "Loaded: /content/content/MachineLearningCSV/MachineLearningCVE/Thursday-WorkingHours-Morning-WebAttacks.pcap_ISCX.csv (170366 rows)\n",
            "Loaded: /content/content/MachineLearningCSV/MachineLearningCVE/Wednesday-workingHours.pcap_ISCX.csv (692703 rows)\n",
            "Loaded: /content/content/MachineLearningCSV/MachineLearningCVE/Friday-WorkingHours-Afternoon-PortScan.pcap_ISCX.csv (286467 rows)\n",
            "Loaded: /content/content/MachineLearningCSV/MachineLearningCVE/Tuesday-WorkingHours.pcap_ISCX.csv (445909 rows)\n",
            "Loaded: /content/content/MachineLearningCSV/MachineLearningCVE/Friday-WorkingHours-Afternoon-DDos.pcap_ISCX.csv (225745 rows)\n",
            "Final merged DataFrame shape: (2830743, 79)\n"
          ]
        }
      ],
      "source": [
        "import pandas as pd\n",
        "import os\n",
        "import glob\n",
        "\n",
        "# Set display options for pandas\n",
        "pd.set_option('display.max_columns', None)\n",
        "pd.set_option('display.float_format', lambda x: '%.3f' % x)\n",
        "\n",
        "# Define the updated folder containing all the extracted CSV files\n",
        "data_folder = \"/content/content/MachineLearningCSV/MachineLearningCVE\"  # Unzipped folder path\n",
        "\n",
        "# Read and merge all CSV files\n",
        "all_files = glob.glob(os.path.join(data_folder, \"*.csv\"))\n",
        "df_list = []\n",
        "\n",
        "for file in all_files:\n",
        "    try:\n",
        "        temp_df = pd.read_csv(file, encoding='latin1', low_memory=False)\n",
        "        if temp_df.shape[0] > 0:\n",
        "            temp_df.columns = temp_df.columns.str.strip().str.lower()\n",
        "            label_col = [col for col in temp_df.columns if 'label' in col.lower()]\n",
        "            if label_col:\n",
        "                temp_df.rename(columns={label_col[0]: 'label'}, inplace=True)\n",
        "            df_list.append(temp_df)\n",
        "            print(f\"Loaded: {file} ({temp_df.shape[0]} rows)\")\n",
        "        else:\n",
        "            print(f\"Skipping empty file: {file}\")\n",
        "    except Exception as e:\n",
        "        print(f\"Error reading {file}: {e}\")\n",
        "\n",
        "if not df_list:\n",
        "    raise ValueError(\"No valid data found in CSV files.\")\n",
        "\n",
        "df = pd.concat(df_list, ignore_index=True)\n",
        "print(f\"Final merged DataFrame shape: {df.shape}\")\n"
      ]
    },
    {
      "cell_type": "code",
      "execution_count": 22,
      "id": "549a0b58",
      "metadata": {
        "id": "549a0b58",
        "outputId": "59258897-456e-4b76-bb08-ddacbff28922",
        "colab": {
          "base_uri": "https://localhost:8080/"
        }
      },
      "outputs": [
        {
          "output_type": "stream",
          "name": "stdout",
          "text": [
            "⚠️ No GPU found. Running on CPU.\n"
          ]
        }
      ],
      "source": [
        "# Enable GPU Acceleration\n",
        "gpu_devices = tf.config.experimental.list_physical_devices('GPU')\n",
        "if gpu_devices:\n",
        "    for device in gpu_devices:\n",
        "        tf.config.experimental.set_memory_growth(device, True)\n",
        "    print(\"✅ GPU is enabled for TensorFlow.\")\n",
        "else:\n",
        "    print(\"⚠️ No GPU found. Running on CPU.\")"
      ]
    },
    {
      "cell_type": "code",
      "execution_count": 23,
      "id": "5868487d",
      "metadata": {
        "id": "5868487d",
        "outputId": "0d92289e-3e86-4c6f-fe82-9273969ceecb",
        "colab": {
          "base_uri": "https://localhost:8080/"
        }
      },
      "outputs": [
        {
          "output_type": "stream",
          "name": "stdout",
          "text": [
            "   destination port  flow duration  total fwd packets  total backward packets  \\\n",
            "0             49188              4                  2                       0   \n",
            "1             49188              1                  2                       0   \n",
            "2             49188              1                  2                       0   \n",
            "3             49188              1                  2                       0   \n",
            "4             49486              3                  2                       0   \n",
            "\n",
            "   total length of fwd packets  total length of bwd packets  \\\n",
            "0                           12                            0   \n",
            "1                           12                            0   \n",
            "2                           12                            0   \n",
            "3                           12                            0   \n",
            "4                           12                            0   \n",
            "\n",
            "   fwd packet length max  fwd packet length min  fwd packet length mean  \\\n",
            "0                      6                      6                   6.000   \n",
            "1                      6                      6                   6.000   \n",
            "2                      6                      6                   6.000   \n",
            "3                      6                      6                   6.000   \n",
            "4                      6                      6                   6.000   \n",
            "\n",
            "   fwd packet length std  bwd packet length max  bwd packet length min  \\\n",
            "0                  0.000                      0                      0   \n",
            "1                  0.000                      0                      0   \n",
            "2                  0.000                      0                      0   \n",
            "3                  0.000                      0                      0   \n",
            "4                  0.000                      0                      0   \n",
            "\n",
            "   bwd packet length mean  bwd packet length std  flow bytes/s  \\\n",
            "0                   0.000                  0.000   3000000.000   \n",
            "1                   0.000                  0.000  12000000.000   \n",
            "2                   0.000                  0.000  12000000.000   \n",
            "3                   0.000                  0.000  12000000.000   \n",
            "4                   0.000                  0.000   4000000.000   \n",
            "\n",
            "   flow packets/s  flow iat mean  flow iat std  flow iat max  flow iat min  \\\n",
            "0      500000.000          4.000         0.000             4             4   \n",
            "1     2000000.000          1.000         0.000             1             1   \n",
            "2     2000000.000          1.000         0.000             1             1   \n",
            "3     2000000.000          1.000         0.000             1             1   \n",
            "4      666666.667          3.000         0.000             3             3   \n",
            "\n",
            "   fwd iat total  fwd iat mean  fwd iat std  fwd iat max  fwd iat min  \\\n",
            "0              4         4.000        0.000            4            4   \n",
            "1              1         1.000        0.000            1            1   \n",
            "2              1         1.000        0.000            1            1   \n",
            "3              1         1.000        0.000            1            1   \n",
            "4              3         3.000        0.000            3            3   \n",
            "\n",
            "   bwd iat total  bwd iat mean  bwd iat std  bwd iat max  bwd iat min  \\\n",
            "0              0         0.000        0.000            0            0   \n",
            "1              0         0.000        0.000            0            0   \n",
            "2              0         0.000        0.000            0            0   \n",
            "3              0         0.000        0.000            0            0   \n",
            "4              0         0.000        0.000            0            0   \n",
            "\n",
            "   fwd psh flags  bwd psh flags  fwd urg flags  bwd urg flags  \\\n",
            "0              0              0              0              0   \n",
            "1              0              0              0              0   \n",
            "2              0              0              0              0   \n",
            "3              0              0              0              0   \n",
            "4              0              0              0              0   \n",
            "\n",
            "   fwd header length  bwd header length  fwd packets/s  bwd packets/s  \\\n",
            "0                 40                  0     500000.000          0.000   \n",
            "1                 40                  0    2000000.000          0.000   \n",
            "2                 40                  0    2000000.000          0.000   \n",
            "3                 40                  0    2000000.000          0.000   \n",
            "4                 40                  0     666666.667          0.000   \n",
            "\n",
            "   min packet length  max packet length  packet length mean  \\\n",
            "0                  6                  6               6.000   \n",
            "1                  6                  6               6.000   \n",
            "2                  6                  6               6.000   \n",
            "3                  6                  6               6.000   \n",
            "4                  6                  6               6.000   \n",
            "\n",
            "   packet length std  packet length variance  fin flag count  syn flag count  \\\n",
            "0              0.000                   0.000               0               0   \n",
            "1              0.000                   0.000               0               0   \n",
            "2              0.000                   0.000               0               0   \n",
            "3              0.000                   0.000               0               0   \n",
            "4              0.000                   0.000               0               0   \n",
            "\n",
            "   rst flag count  psh flag count  ack flag count  urg flag count  \\\n",
            "0               0               0               1               1   \n",
            "1               0               0               1               1   \n",
            "2               0               0               1               1   \n",
            "3               0               0               1               1   \n",
            "4               0               0               1               1   \n",
            "\n",
            "   cwe flag count  ece flag count  down/up ratio  average packet size  \\\n",
            "0               0               0              0                9.000   \n",
            "1               0               0              0                9.000   \n",
            "2               0               0              0                9.000   \n",
            "3               0               0              0                9.000   \n",
            "4               0               0              0                9.000   \n",
            "\n",
            "   avg fwd segment size  avg bwd segment size  fwd header length.1  \\\n",
            "0                 6.000                 0.000                   40   \n",
            "1                 6.000                 0.000                   40   \n",
            "2                 6.000                 0.000                   40   \n",
            "3                 6.000                 0.000                   40   \n",
            "4                 6.000                 0.000                   40   \n",
            "\n",
            "   fwd avg bytes/bulk  fwd avg packets/bulk  fwd avg bulk rate  \\\n",
            "0                   0                     0                  0   \n",
            "1                   0                     0                  0   \n",
            "2                   0                     0                  0   \n",
            "3                   0                     0                  0   \n",
            "4                   0                     0                  0   \n",
            "\n",
            "   bwd avg bytes/bulk  bwd avg packets/bulk  bwd avg bulk rate  \\\n",
            "0                   0                     0                  0   \n",
            "1                   0                     0                  0   \n",
            "2                   0                     0                  0   \n",
            "3                   0                     0                  0   \n",
            "4                   0                     0                  0   \n",
            "\n",
            "   subflow fwd packets  subflow fwd bytes  subflow bwd packets  \\\n",
            "0                    2                 12                    0   \n",
            "1                    2                 12                    0   \n",
            "2                    2                 12                    0   \n",
            "3                    2                 12                    0   \n",
            "4                    2                 12                    0   \n",
            "\n",
            "   subflow bwd bytes  init_win_bytes_forward  init_win_bytes_backward  \\\n",
            "0                  0                     329                       -1   \n",
            "1                  0                     329                       -1   \n",
            "2                  0                     329                       -1   \n",
            "3                  0                     329                       -1   \n",
            "4                  0                     245                       -1   \n",
            "\n",
            "   act_data_pkt_fwd  min_seg_size_forward  active mean  active std  \\\n",
            "0                 1                    20        0.000       0.000   \n",
            "1                 1                    20        0.000       0.000   \n",
            "2                 1                    20        0.000       0.000   \n",
            "3                 1                    20        0.000       0.000   \n",
            "4                 1                    20        0.000       0.000   \n",
            "\n",
            "   active max  active min  idle mean  idle std  idle max  idle min   label  \n",
            "0           0           0      0.000     0.000         0         0  BENIGN  \n",
            "1           0           0      0.000     0.000         0         0  BENIGN  \n",
            "2           0           0      0.000     0.000         0         0  BENIGN  \n",
            "3           0           0      0.000     0.000         0         0  BENIGN  \n",
            "4           0           0      0.000     0.000         0         0  BENIGN  \n",
            "       destination port  flow duration  total fwd packets  \\\n",
            "count       2830743.000    2830743.000        2830743.000   \n",
            "mean           8071.483   14785663.930              9.361   \n",
            "std           18283.632   33653744.086            749.673   \n",
            "min               0.000        -13.000              1.000   \n",
            "25%              53.000        155.000              2.000   \n",
            "50%              80.000      31316.000              2.000   \n",
            "75%             443.000    3204828.500              5.000   \n",
            "max           65535.000  119999998.000         219759.000   \n",
            "\n",
            "       total backward packets  total length of fwd packets  \\\n",
            "count             2830743.000                  2830743.000   \n",
            "mean                   10.394                      549.302   \n",
            "std                   997.388                     9993.589   \n",
            "min                     0.000                        0.000   \n",
            "25%                     1.000                       12.000   \n",
            "50%                     2.000                       62.000   \n",
            "75%                     4.000                      187.000   \n",
            "max                291922.000                 12900000.000   \n",
            "\n",
            "       total length of bwd packets  fwd packet length max  \\\n",
            "count                  2830743.000            2830743.000   \n",
            "mean                     16162.643                207.600   \n",
            "std                    2263088.052                717.185   \n",
            "min                          0.000                  0.000   \n",
            "25%                          0.000                  6.000   \n",
            "50%                        123.000                 37.000   \n",
            "75%                        482.000                 81.000   \n",
            "max                  655453030.000              24820.000   \n",
            "\n",
            "       fwd packet length min  fwd packet length mean  fwd packet length std  \\\n",
            "count            2830743.000             2830743.000            2830743.000   \n",
            "mean                  18.714                  58.202                 68.910   \n",
            "std                   60.339                 186.091                281.187   \n",
            "min                    0.000                   0.000                  0.000   \n",
            "25%                    0.000                   6.000                  0.000   \n",
            "50%                    2.000                  34.000                  0.000   \n",
            "75%                   36.000                  50.000                 26.163   \n",
            "max                 2325.000                5940.857               7125.597   \n",
            "\n",
            "       bwd packet length max  bwd packet length min  bwd packet length mean  \\\n",
            "count            2830743.000            2830743.000             2830743.000   \n",
            "mean                 870.849                 41.050                 305.949   \n",
            "std                 1946.367                 68.863                 605.257   \n",
            "min                    0.000                  0.000                   0.000   \n",
            "25%                    0.000                  0.000                   0.000   \n",
            "50%                   79.000                  0.000                  72.000   \n",
            "75%                  280.000                 77.000                 181.000   \n",
            "max                19530.000               2896.000                5800.500   \n",
            "\n",
            "       bwd packet length std   flow bytes/s  flow packets/s  flow iat mean  \\\n",
            "count            2830743.000    2829385.000     2830743.000    2830743.000   \n",
            "mean                 335.326            inf             inf    1298448.709   \n",
            "std                  839.693            NaN             NaN    4507944.174   \n",
            "min                    0.000 -261000000.000    -2000000.000        -13.000   \n",
            "25%                    0.000        119.320           3.446         63.667   \n",
            "50%                    0.000       4595.549         110.668      11438.842   \n",
            "75%                   77.941     166666.667       23255.814     337426.600   \n",
            "max                 8194.660            inf             inf  120000000.000   \n",
            "\n",
            "       flow iat std  flow iat max  flow iat min  fwd iat total  fwd iat mean  \\\n",
            "count   2830743.000   2830743.000   2830743.000    2830743.000   2830743.000   \n",
            "mean    2919270.919   9182475.317    162379.562   14482961.734   2610192.974   \n",
            "std     8045869.780  24459539.251   2950281.777   33575811.646   9525722.485   \n",
            "min           0.000       -13.000       -14.000          0.000         0.000   \n",
            "25%           0.000       123.000         3.000          0.000         0.000   \n",
            "50%         137.179     30865.000         4.000         43.000        26.000   \n",
            "75%      691266.282   2440145.000        64.000    1242843.500    206306.358   \n",
            "max    84800261.566 120000000.000 120000000.000  120000000.000 120000000.000   \n",
            "\n",
            "       fwd iat std   fwd iat max   fwd iat min  bwd iat total  bwd iat mean  \\\n",
            "count  2830743.000   2830743.000   2830743.000    2830743.000   2830743.000   \n",
            "mean   3266957.222   9042938.559   1021892.905    9893830.350   1805783.767   \n",
            "std    9639055.400  24529157.400   8591436.339   28736614.199   8887197.079   \n",
            "min          0.000         0.000       -12.000          0.000         0.000   \n",
            "25%          0.000         0.000         0.000          0.000         0.000   \n",
            "50%          0.000        43.000         3.000          3.000         3.000   \n",
            "75%      65989.822    931006.000        48.000      98580.500     18248.567   \n",
            "max   84602929.277 120000000.000 120000000.000  120000000.000 120000000.000   \n",
            "\n",
            "       bwd iat std   bwd iat max   bwd iat min  fwd psh flags  bwd psh flags  \\\n",
            "count  2830743.000   2830743.000   2830743.000    2830743.000    2830743.000   \n",
            "mean   1485973.347   4684692.428    967261.371          0.046          0.000   \n",
            "std    6278468.565  17160950.058   8308983.091          0.210          0.000   \n",
            "min          0.000         0.000         0.000          0.000          0.000   \n",
            "25%          0.000         0.000         0.000          0.000          0.000   \n",
            "50%          0.000         3.000         1.000          0.000          0.000   \n",
            "75%      15724.093     60210.000        45.000          0.000          0.000   \n",
            "max   84418013.783 120000000.000 120000000.000          1.000          0.000   \n",
            "\n",
            "       fwd urg flags  bwd urg flags  fwd header length  bwd header length  \\\n",
            "count    2830743.000    2830743.000        2830743.000        2830743.000   \n",
            "mean           0.000          0.000         -25997.392          -2273.275   \n",
            "std            0.011          0.000       21052857.873        1452208.940   \n",
            "min            0.000          0.000   -32212234632.000    -1073741320.000   \n",
            "25%            0.000          0.000             40.000             20.000   \n",
            "50%            0.000          0.000             64.000             40.000   \n",
            "75%            0.000          0.000            120.000            104.000   \n",
            "max            1.000          0.000        4644908.000        5838440.000   \n",
            "\n",
            "       fwd packets/s  bwd packets/s  min packet length  max packet length  \\\n",
            "count    2830743.000    2830743.000        2830743.000        2830743.000   \n",
            "mean       63865.346       6995.192             16.435            950.402   \n",
            "std       247537.130      38151.698             25.238           2028.229   \n",
            "min            0.000          0.000              0.000              0.000   \n",
            "25%            1.749          0.123              0.000              6.000   \n",
            "50%           61.325         19.828              2.000             87.000   \n",
            "75%        12048.193       7352.941             36.000            525.000   \n",
            "max      3000000.000    2000000.000           1448.000          24820.000   \n",
            "\n",
            "       packet length mean  packet length std  packet length variance  \\\n",
            "count         2830743.000        2830743.000             2830743.000   \n",
            "mean              171.944            294.976              486154.794   \n",
            "std               305.491            631.800             1647489.865   \n",
            "min                 0.000              0.000                   0.000   \n",
            "25%                 6.000              0.000                   0.000   \n",
            "50%                57.200             25.981                 675.000   \n",
            "75%               119.800            174.324               30388.839   \n",
            "max              3337.143           4731.522            22400000.000   \n",
            "\n",
            "       fin flag count  syn flag count  rst flag count  psh flag count  \\\n",
            "count     2830743.000     2830743.000     2830743.000     2830743.000   \n",
            "mean            0.035           0.046           0.000           0.298   \n",
            "std             0.185           0.210           0.016           0.457   \n",
            "min             0.000           0.000           0.000           0.000   \n",
            "25%             0.000           0.000           0.000           0.000   \n",
            "50%             0.000           0.000           0.000           0.000   \n",
            "75%             0.000           0.000           0.000           1.000   \n",
            "max             1.000           1.000           1.000           1.000   \n",
            "\n",
            "       ack flag count  urg flag count  cwe flag count  ece flag count  \\\n",
            "count     2830743.000     2830743.000     2830743.000     2830743.000   \n",
            "mean            0.316           0.095           0.000           0.000   \n",
            "std             0.465           0.293           0.011           0.016   \n",
            "min             0.000           0.000           0.000           0.000   \n",
            "25%             0.000           0.000           0.000           0.000   \n",
            "50%             0.000           0.000           0.000           0.000   \n",
            "75%             1.000           0.000           0.000           0.000   \n",
            "max             1.000           1.000           1.000           1.000   \n",
            "\n",
            "       down/up ratio  average packet size  avg fwd segment size  \\\n",
            "count    2830743.000          2830743.000           2830743.000   \n",
            "mean           0.684              191.984                58.202   \n",
            "std            0.680              331.860               186.091   \n",
            "min            0.000                0.000                 0.000   \n",
            "25%            0.000                7.500                 6.000   \n",
            "50%            1.000               72.250                34.000   \n",
            "75%            1.000              149.264                50.000   \n",
            "max          156.000             3893.333              5940.857   \n",
            "\n",
            "       avg bwd segment size  fwd header length.1  fwd avg bytes/bulk  \\\n",
            "count           2830743.000          2830743.000         2830743.000   \n",
            "mean                305.949           -25997.392               0.000   \n",
            "std                 605.257         21052857.873               0.000   \n",
            "min                   0.000     -32212234632.000               0.000   \n",
            "25%                   0.000               40.000               0.000   \n",
            "50%                  72.000               64.000               0.000   \n",
            "75%                 181.000              120.000               0.000   \n",
            "max                5800.500          4644908.000               0.000   \n",
            "\n",
            "       fwd avg packets/bulk  fwd avg bulk rate  bwd avg bytes/bulk  \\\n",
            "count           2830743.000        2830743.000         2830743.000   \n",
            "mean                  0.000              0.000               0.000   \n",
            "std                   0.000              0.000               0.000   \n",
            "min                   0.000              0.000               0.000   \n",
            "25%                   0.000              0.000               0.000   \n",
            "50%                   0.000              0.000               0.000   \n",
            "75%                   0.000              0.000               0.000   \n",
            "max                   0.000              0.000               0.000   \n",
            "\n",
            "       bwd avg packets/bulk  bwd avg bulk rate  subflow fwd packets  \\\n",
            "count           2830743.000        2830743.000          2830743.000   \n",
            "mean                  0.000              0.000                9.361   \n",
            "std                   0.000              0.000              749.673   \n",
            "min                   0.000              0.000                1.000   \n",
            "25%                   0.000              0.000                2.000   \n",
            "50%                   0.000              0.000                2.000   \n",
            "75%                   0.000              0.000                5.000   \n",
            "max                   0.000              0.000           219759.000   \n",
            "\n",
            "       subflow fwd bytes  subflow bwd packets  subflow bwd bytes  \\\n",
            "count        2830743.000          2830743.000        2830743.000   \n",
            "mean             549.292               10.394          16162.302   \n",
            "std             9980.070              997.388        2263057.284   \n",
            "min                0.000                0.000              0.000   \n",
            "25%               12.000                1.000              0.000   \n",
            "50%               62.000                2.000            123.000   \n",
            "75%              187.000                4.000            482.000   \n",
            "max         12870338.000           291922.000      655453030.000   \n",
            "\n",
            "       init_win_bytes_forward  init_win_bytes_backward  act_data_pkt_fwd  \\\n",
            "count             2830743.000              2830743.000       2830743.000   \n",
            "mean                 6989.837                 1989.433             5.418   \n",
            "std                 14338.726                 8456.883           636.426   \n",
            "min                    -1.000                   -1.000             0.000   \n",
            "25%                    -1.000                   -1.000             0.000   \n",
            "50%                   251.000                   -1.000             1.000   \n",
            "75%                  8192.000                  235.000             2.000   \n",
            "max                 65535.000                65535.000        213557.000   \n",
            "\n",
            "       min_seg_size_forward   active mean   active std    active max  \\\n",
            "count           2830743.000   2830743.000  2830743.000   2830743.000   \n",
            "mean              -2741.688     81551.321    41134.117    153182.521   \n",
            "std             1084989.384    648599.937   393381.515   1025824.975   \n",
            "min          -536870661.000         0.000        0.000         0.000   \n",
            "25%                  20.000         0.000        0.000         0.000   \n",
            "50%                  24.000         0.000        0.000         0.000   \n",
            "75%                  32.000         0.000        0.000         0.000   \n",
            "max                 138.000 110000000.000 74200000.000 110000000.000   \n",
            "\n",
            "         active min     idle mean     idle std      idle max      idle min  \n",
            "count   2830743.000   2830743.000  2830743.000   2830743.000   2830743.000  \n",
            "mean      58295.818   8316036.627   503843.950   8695751.985   7920031.015  \n",
            "std      577092.282  23630078.579  4602984.481  24366888.330  23363418.928  \n",
            "min           0.000         0.000        0.000         0.000         0.000  \n",
            "25%           0.000         0.000        0.000         0.000         0.000  \n",
            "50%           0.000         0.000        0.000         0.000         0.000  \n",
            "75%           0.000         0.000        0.000         0.000         0.000  \n",
            "max   110000000.000 120000000.000 76900000.000 120000000.000 120000000.000  \n",
            "Missing Values per Column:\n",
            "flow bytes/s    1358\n",
            "dtype: int64\n"
          ]
        }
      ],
      "source": [
        "# Exploratory Data Analysis (EDA)\n",
        "# Display first few rows\n",
        "print(df.head())\n",
        "\n",
        "# Summary statistics\n",
        "print(df.describe())\n",
        "\n",
        "# Check for missing values\n",
        "missing_values = df.isnull().sum()\n",
        "print(f\"Missing Values per Column:\\n{missing_values[missing_values > 0]}\")\n"
      ]
    },
    {
      "cell_type": "code",
      "execution_count": 24,
      "id": "dad4ca1b",
      "metadata": {
        "id": "dad4ca1b"
      },
      "outputs": [],
      "source": [
        "df.replace([np.inf, -np.inf], np.nan, inplace=True)  # Replace infinite values\n"
      ]
    },
    {
      "cell_type": "code",
      "execution_count": 25,
      "id": "7a4113f5",
      "metadata": {
        "id": "7a4113f5",
        "outputId": "aa97299e-133f-4bd9-e670-afca162b189e",
        "colab": {
          "base_uri": "https://localhost:8080/"
        }
      },
      "outputs": [
        {
          "output_type": "stream",
          "name": "stdout",
          "text": [
            "Columns dropped with all missing values.\n"
          ]
        }
      ],
      "source": [
        "df.dropna(axis=1, how='all', inplace=True)\n",
        "print(\"Columns dropped with all missing values.\")"
      ]
    },
    {
      "cell_type": "code",
      "execution_count": 26,
      "id": "8aa68924",
      "metadata": {
        "id": "8aa68924",
        "outputId": "f2714869-7fd8-4bfe-9a57-624d58984028",
        "colab": {
          "base_uri": "https://localhost:8080/"
        }
      },
      "outputs": [
        {
          "output_type": "stream",
          "name": "stdout",
          "text": [
            "Missing values in numeric columns filled with mean.\n",
            "Duplicates removed.\n"
          ]
        }
      ],
      "source": [
        "numeric_columns = df.select_dtypes(include=[np.number]).columns\n",
        "df[numeric_columns] = df[numeric_columns].fillna(df[numeric_columns].mean())\n",
        "print(\"Missing values in numeric columns filled with mean.\")\n",
        "df.drop_duplicates(inplace=True)\n",
        "print(\"Duplicates removed.\")"
      ]
    },
    {
      "cell_type": "code",
      "execution_count": 27,
      "id": "1d73567f",
      "metadata": {
        "id": "1d73567f",
        "outputId": "639f9327-11f4-42d0-e11a-2af819ae57d2",
        "colab": {
          "base_uri": "https://localhost:8080/"
        }
      },
      "outputs": [
        {
          "output_type": "stream",
          "name": "stdout",
          "text": [
            "Categorical columns: ['label']\n"
          ]
        }
      ],
      "source": [
        "# Handle categorical features\n",
        "non_numeric_columns = df.select_dtypes(include=['object']).columns.tolist()\n",
        "print(f\"Categorical columns: {non_numeric_columns}\")\n",
        "if 'label' in non_numeric_columns:\n",
        "    df['label'] = df['label'].astype(str)\n",
        "    df['label'] = pd.factorize(df['label'])[0]\n",
        "    non_numeric_columns.remove('label')\n",
        "if non_numeric_columns:\n",
        "    df = pd.get_dummies(df, columns=non_numeric_columns)\n",
        "    print(\"Categorical features one-hot encoded.\")"
      ]
    },
    {
      "cell_type": "code",
      "execution_count": 28,
      "id": "4841e46b",
      "metadata": {
        "id": "4841e46b",
        "outputId": "90fe922d-f2c8-4bfc-d60e-405dcb64cd49",
        "colab": {
          "base_uri": "https://localhost:8080/",
          "height": 530
        }
      },
      "outputs": [
        {
          "output_type": "display_data",
          "data": {
            "text/plain": [
              "<Figure size 1000x600 with 1 Axes>"
            ],
            "image/png": "[encoded data removed]"
          },
          "metadata": {}
        }
      ],
      "source": [
        "# 1. Distribution of the target variable (class distribution)\n",
        "plt.figure(figsize=(10, 6))\n",
        "ax = sns.countplot(x='label', data=df)\n",
        "plt.title('Distribution of Target Classes', fontsize=16)\n",
        "plt.xlabel('Class Label', fontsize=14)\n",
        "plt.ylabel('Count', fontsize=14)\n",
        "# Add count labels on top of the bars\n",
        "for p in ax.patches:\n",
        "    ax.annotate(f'{int(p.get_height())}',\n",
        "                (p.get_x() + p.get_width()/2., p.get_height()),\n",
        "                ha='center', va='bottom', fontsize=12)\n",
        "plt.xticks(rotation=0)\n",
        "plt.tight_layout()\n",
        "plt.savefig('class_distribution.png')\n",
        "plt.show()\n"
      ]
    },
    {
      "cell_type": "code",
      "execution_count": null,
      "id": "f49b968c",
      "metadata": {
        "id": "f49b968c"
      },
      "outputs": [],
      "source": [
        "# 2. Correlation heatmap of numeric features\n",
        "plt.figure(figsize=(16, 14))\n",
        "# Select only numeric columns and exclude the target\n",
        "numeric_df = df.select_dtypes(include=[np.number])\n",
        "if 'label' in numeric_df.columns:\n",
        "    correlation_cols = numeric_df.drop(columns=['label']).columns\n",
        "    # Select top 20 features by correlation with target (if too many features)\n",
        "    if len(correlation_cols) > 20:\n",
        "        correlations = numeric_df[correlation_cols].corrwith(numeric_df['label'])\n",
        "        top_features = correlations.abs().nlargest(20).index\n",
        "        correlation_matrix = numeric_df[list(top_features) + ['label']].corr()\n",
        "    else:\n",
        "        correlation_matrix = numeric_df.corr()\n",
        "else:\n",
        "    # If no label column, just show all correlations\n",
        "    correlation_cols = numeric_df.columns\n",
        "    if len(correlation_cols) > 20:\n",
        "        correlation_matrix = numeric_df.iloc[:, :20].corr()\n",
        "    else:\n",
        "        correlation_matrix = numeric_df.corr()\n",
        "\n",
        "mask = np.triu(np.ones_like(correlation_matrix, dtype=bool))\n",
        "sns.heatmap(correlation_matrix, mask=mask, cmap='coolwarm', vmin=-1, vmax=1,\n",
        "            annot=True, fmt='.2f', linewidths=0.5, square=True)\n",
        "plt.title('Feature Correlation Heatmap', fontsize=16)\n",
        "plt.tight_layout()\n",
        "plt.savefig('correlation_heatmap.png')\n",
        "plt.show()\n"
      ]
    },
    {
      "cell_type": "code",
      "execution_count": null,
      "id": "20346f2a",
      "metadata": {
        "id": "20346f2a"
      },
      "outputs": [],
      "source": [
        "# Feature Selection - Drop irrelevant columns\n",
        "irrelevant_columns = ['timestamp', 'flow_id'] if 'timestamp' in df.columns and 'flow_id' in df.columns else []\n",
        "df.drop(columns=irrelevant_columns, inplace=True, errors='ignore')\n",
        "print(f\"Dropped irrelevant columns: {irrelevant_columns}\")"
      ]
    },
    {
      "cell_type": "code",
      "execution_count": null,
      "id": "a69dffd3",
      "metadata": {
        "id": "a69dffd3"
      },
      "outputs": [],
      "source": [
        "# Feature Scaling\n",
        "scaler = StandardScaler()\n",
        "scaled_features = scaler.fit_transform(df.drop(columns=['label']))\n",
        "print(\"Features scaled.\")"
      ]
    },
    {
      "cell_type": "code",
      "execution_count": null,
      "id": "25499c84",
      "metadata": {
        "id": "25499c84"
      },
      "outputs": [],
      "source": [
        "# 3. Simple boxplot for top 5 numeric features\n",
        "plt.figure(figsize=(10, 6))\n",
        "numeric_cols = df.select_dtypes(include=[np.number]).columns\n",
        "# Take 5 columns only, excluding label if it exists\n",
        "if 'label' in numeric_cols:\n",
        "    numeric_cols = numeric_cols.drop('label')\n",
        "cols_to_plot = numeric_cols[:5]  # Just take first 5 columns\n",
        "df[cols_to_plot].boxplot()\n",
        "plt.title('Feature Distributions')\n",
        "plt.xticks(rotation=45)\n",
        "plt.tight_layout()\n",
        "plt.show()"
      ]
    },
    {
      "cell_type": "code",
      "execution_count": null,
      "id": "012991bf",
      "metadata": {
        "id": "012991bf"
      },
      "outputs": [],
      "source": [
        "# 4. Histogram of top 4 numeric features\n",
        "plt.figure(figsize=(10, 8))\n",
        "numeric_cols = df.select_dtypes(include=[np.number]).columns\n",
        "if 'label' in numeric_cols:\n",
        "    numeric_cols = numeric_cols.drop('label')\n",
        "cols_to_plot = numeric_cols[:4]  # Take first 4 columns\n",
        "\n",
        "for i, col in enumerate(cols_to_plot):\n",
        "    plt.subplot(2, 2, i+1)\n",
        "    plt.hist(df[col], bins=20, color='lightgreen', edgecolor='black')\n",
        "    plt.title(f'Distribution of {col}')\n",
        "    plt.tight_layout()\n",
        "plt.show()"
      ]
    },
    {
      "cell_type": "code",
      "execution_count": null,
      "id": "4b141e80",
      "metadata": {
        "id": "4b141e80"
      },
      "outputs": [],
      "source": []
    },
    {
      "cell_type": "code",
      "execution_count": null,
      "id": "7e57f619",
      "metadata": {
        "id": "7e57f619"
      },
      "outputs": [],
      "source": [
        "# Train-Test Split\n",
        "X_train, X_test, y_train, y_test = train_test_split(scaled_features, df['label'], test_size=0.2, random_state=42, stratify=df['label'])\n",
        "print(\"Train-test split completed.\")"
      ]
    },
    {
      "cell_type": "code",
      "execution_count": null,
      "id": "a9cfcee1",
      "metadata": {
        "id": "a9cfcee1"
      },
      "outputs": [],
      "source": [
        "# Model 1: Random Forest Classifier\n",
        "rf_model = RandomForestClassifier(n_estimators=100, random_state=42, n_jobs=-1)\n",
        "rf_model.fit(X_train, y_train)\n",
        "y_pred_rf = rf_model.predict(X_test)\n",
        "print(\"Random Forest Performance:\")\n",
        "print(classification_report(y_test, y_pred_rf, zero_division=1))\n",
        "\n",
        "# Fix ROC-AUC Error for Multi-Class Classification\n",
        "if len(np.unique(y_test)) > 2:\n",
        "    roc_auc = roc_auc_score(y_test, rf_model.predict_proba(X_test), multi_class='ovr')\n",
        "else:\n",
        "    roc_auc = roc_auc_score(y_test, y_pred_rf)\n",
        "print(f\"AUC-ROC: {roc_auc:.3f}\")"
      ]
    },
    {
      "cell_type": "code",
      "execution_count": null,
      "id": "18ff0867",
      "metadata": {
        "id": "18ff0867"
      },
      "outputs": [],
      "source": [
        "# Model 2: Isolation Forest\n",
        "iso_forest = IsolationForest(n_estimators=100, contamination=0.1, random_state=42, n_jobs=-1)\n",
        "iso_forest.fit(X_train)\n",
        "y_pred_if = iso_forest.predict(X_test)\n",
        "y_pred_if = np.where(y_pred_if == -1, 1, 0)\n",
        "print(\"Isolation Forest Performance:\")\n",
        "print(classification_report(y_test, y_pred_if, zero_division=1))"
      ]
    },
    {
      "cell_type": "code",
      "execution_count": null,
      "id": "fa90d1d6",
      "metadata": {
        "id": "fa90d1d6"
      },
      "outputs": [],
      "source": [
        "# Model 3: Autoencoder (Using GPU)\n",
        "input_dim = X_train.shape[1]\n",
        "autoencoder = Sequential([\n",
        "    Dense(64, activation='relu', input_shape=(input_dim,)),\n",
        "    Dropout(0.2),\n",
        "    Dense(32, activation='relu'),\n",
        "    Dense(16, activation='relu'),\n",
        "    Dense(32, activation='relu'),\n",
        "    Dense(64, activation='relu'),\n",
        "    Dense(input_dim, activation='sigmoid')\n",
        "])\n",
        "\n",
        "# Use GPU for training\n",
        "autoencoder.compile(optimizer=Adam(learning_rate=0.001), loss='mse')\n",
        "autoencoder.fit(X_train, X_train, epochs=10, batch_size=32, validation_data=(X_test, X_test), verbose=1)\n",
        "\n",
        "X_test_pred = autoencoder.predict(X_test)\n",
        "mse = np.mean(np.power(X_test - X_test_pred, 2), axis=1)\n",
        "threshold = np.percentile(mse, 95)\n",
        "y_pred_ae = (mse > threshold).astype(int)\n",
        "print(\"Autoencoder Performance:\")\n",
        "print(classification_report(y_test, y_pred_ae, zero_division=1))"
      ]
    },
    {
      "cell_type": "code",
      "execution_count": null,
      "id": "f63cdfe8",
      "metadata": {
        "id": "f63cdfe8"
      },
      "outputs": [],
      "source": [
        "# Create a summary table with only accuracy for each model\n",
        "def model_accuracy(y_true, y_pred, model_name):\n",
        "    accuracy = np.mean(y_true == y_pred)\n",
        "    return pd.DataFrame({\"Model\": [model_name], \"Accuracy\": [accuracy]})\n",
        "\n",
        "# Collect accuracy for each model\n",
        "rf_accuracy = model_accuracy(y_test, y_pred_rf, \"Random Forest\")\n",
        "iso_accuracy = model_accuracy(y_test, y_pred_if, \"Isolation Forest\")\n",
        "ae_accuracy = model_accuracy(y_test, y_pred_ae, \"Autoencoder\")\n",
        "\n",
        "# Combine into a single table\n",
        "accuracy_table = pd.concat([rf_accuracy, iso_accuracy, ae_accuracy])\n",
        "\n",
        "# Display the final accuracy table\n",
        "print(\"\\nModel Accuracy Summary:\")\n",
        "print(accuracy_table)\n"
      ]
    }
  ],
  "metadata": {
    "kernelspec": {
      "display_name": "Python 3 (ipykernel)",
      "language": "python",
      "name": "python3"
    },
    "language_info": {
      "codemirror_mode": {
        "name": "ipython",
        "version": 3
      },
      "file_extension": ".py",
      "mimetype": "text/x-python",
      "name": "python",
      "nbconvert_exporter": "python",
      "pygments_lexer": "ipython3",
      "version": "3.11.5"
    },
    "colab": {
      "provenance": []
    }
  },
  "nbformat": 4,
  "nbformat_minor": 5
}